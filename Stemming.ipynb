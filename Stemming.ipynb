{
  "nbformat": 4,
  "nbformat_minor": 0,
  "metadata": {
    "colab": {
      "provenance": []
    },
    "kernelspec": {
      "name": "python3",
      "display_name": "Python 3"
    },
    "language_info": {
      "name": "python"
    }
  },
  "cells": [
    {
      "cell_type": "code",
      "execution_count": 1,
      "metadata": {
        "colab": {
          "base_uri": "https://localhost:8080/"
        },
        "id": "4x1C0pv8qHSq",
        "outputId": "66fc688b-20f3-4200-b6ea-dd89dc525d49"
      },
      "outputs": [
        {
          "output_type": "stream",
          "name": "stderr",
          "text": [
            "[nltk_data] Downloading package wordnet to /root/nltk_data...\n"
          ]
        },
        {
          "output_type": "execute_result",
          "data": {
            "text/plain": [
              "True"
            ]
          },
          "metadata": {},
          "execution_count": 1
        }
      ],
      "source": [
        "import nltk\n",
        "nltk.download('wordnet')"
      ]
    },
    {
      "cell_type": "code",
      "source": [
        "from nltk.stem import PorterStemmer\n",
        "pst = PorterStemmer()\n",
        "pst.stem(\"waiting\")"
      ],
      "metadata": {
        "colab": {
          "base_uri": "https://localhost:8080/",
          "height": 36
        },
        "id": "xVLL9Q78qSo-",
        "outputId": "dc126b16-0ef9-42c5-9a89-3dfdacf3a11e"
      },
      "execution_count": 2,
      "outputs": [
        {
          "output_type": "execute_result",
          "data": {
            "text/plain": [
              "'wait'"
            ],
            "application/vnd.google.colaboratory.intrinsic+json": {
              "type": "string"
            }
          },
          "metadata": {},
          "execution_count": 2
        }
      ]
    },
    {
      "cell_type": "code",
      "source": [
        "print('-'*20)\n",
        "print(\"PORTER STEMMER\")\n",
        "print('-'*20)\n",
        "stm = [\"Waiting\",\"Waited\",\"Waits\"]\n",
        "for word in stm:\n",
        "    print(word+\":\"+pst.stem(word))"
      ],
      "metadata": {
        "colab": {
          "base_uri": "https://localhost:8080/"
        },
        "id": "dgD9TpcJqZGz",
        "outputId": "9fa850b8-4877-481d-c807-6d12d9f7c367"
      },
      "execution_count": 3,
      "outputs": [
        {
          "output_type": "stream",
          "name": "stdout",
          "text": [
            "--------------------\n",
            "PORTER STEMMER\n",
            "--------------------\n",
            "Waiting:wait\n",
            "Waited:wait\n",
            "Waits:wait\n"
          ]
        }
      ]
    },
    {
      "cell_type": "code",
      "source": [
        "print('-'*20)\n",
        "print(\"LANCASTER STEMMER\")\n",
        "print('-'*20)\n",
        "from nltk.stem import LancasterStemmer\n",
        "lst = LancasterStemmer()\n",
        "stm = [\"giving\",\"given\",\"gave\"]\n",
        "for word in stm:\n",
        "    print(word+\":\"+lst.stem(word))"
      ],
      "metadata": {
        "colab": {
          "base_uri": "https://localhost:8080/"
        },
        "id": "4mSNB0d4qaww",
        "outputId": "c65e113c-c16f-474f-c7b4-2f57da4b4e97"
      },
      "execution_count": 4,
      "outputs": [
        {
          "output_type": "stream",
          "name": "stdout",
          "text": [
            "--------------------\n",
            "LANCASTER STEMMER\n",
            "--------------------\n",
            "giving:giv\n",
            "given:giv\n",
            "gave:gav\n"
          ]
        }
      ]
    },
    {
      "cell_type": "code",
      "source": [
        "print('-'*20)\n",
        "print(\"WORD NET LEMMATIZER\")\n",
        "print('-'*20)\n",
        "from nltk.stem import WordNetLemmatizer\n",
        "lemma = WordNetLemmatizer()\n",
        "print(\"rocks :\",lemma.lemmatize(\"rocks\"))\n",
        "print(\"corpora :\",lemma.lemmatize(\"corpora\"))"
      ],
      "metadata": {
        "colab": {
          "base_uri": "https://localhost:8080/"
        },
        "id": "HL5sf3P3qmTO",
        "outputId": "28171471-8c5a-456d-b7c2-c8756fe27b19"
      },
      "execution_count": 5,
      "outputs": [
        {
          "output_type": "stream",
          "name": "stdout",
          "text": [
            "--------------------\n",
            "WORD NET LEMMATIZER\n",
            "--------------------\n",
            "rocks : rock\n",
            "corpora : corpus\n"
          ]
        }
      ]
    }
  ]
}