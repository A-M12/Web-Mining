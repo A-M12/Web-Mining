{
  "nbformat": 4,
  "nbformat_minor": 0,
  "metadata": {
    "colab": {
      "provenance": []
    },
    "kernelspec": {
      "name": "python3",
      "display_name": "Python 3"
    },
    "language_info": {
      "name": "python"
    }
  },
  "cells": [
    {
      "cell_type": "code",
      "execution_count": 1,
      "metadata": {
        "id": "-x21at9knwb7"
      },
      "outputs": [],
      "source": [
        "import pandas as pd\n",
        "from sklearn.preprocessing import LabelEncoder\n",
        "from sklearn.feature_extraction.text import TfidfVectorizer\n",
        "from sklearn.model_selection import train_test_split\n",
        "from sklearn.linear_model import LogisticRegression\n",
        "from sklearn.metrics import accuracy_score"
      ]
    },
    {
      "cell_type": "code",
      "source": [
        "data = pd.read_csv(\"D:\\\\D Backup\\\\AG\\\\AnitaRJ\\\\DATA SCIENCE\\\\Datasets\\\\mail_data.csv\")\n",
        "data.head()"
      ],
      "metadata": {
        "id": "NszEDjTroNYP"
      },
      "execution_count": null,
      "outputs": []
    },
    {
      "cell_type": "code",
      "source": [
        "encoder = LabelEncoder()\n",
        "data['Category'] = encoder.fit_transform(data['Category'])\n",
        "data.head()"
      ],
      "metadata": {
        "id": "0RVktSUeoN6z"
      },
      "execution_count": null,
      "outputs": []
    },
    {
      "cell_type": "code",
      "source": [
        "x = data['Message']\n",
        "y = data['Category']\n",
        "x_train,x_test,y_train,y_test = train_test_split(x,y,test_size = 0.2,random_state=2)"
      ],
      "metadata": {
        "id": "kziKZpc0oQ4D"
      },
      "execution_count": null,
      "outputs": []
    },
    {
      "cell_type": "code",
      "source": [
        "tfidf=TfidfVectorizer(min_df=1,stop_words='english',lowercase=True)\n",
        "x_train = tfidf.fit_transform(x_train)\n",
        "x_test = tfidf.transform(x_test)"
      ],
      "metadata": {
        "id": "7K0k3OLxoTs7"
      },
      "execution_count": null,
      "outputs": []
    },
    {
      "cell_type": "code",
      "source": [
        "model = LogisticRegression()\n",
        "model.fit(x_train,y_train)\n",
        "pred = model.predict(x_test)\n",
        "accuracy_score(y_test,pred)"
      ],
      "metadata": {
        "id": "ozxNpSeqoYFT"
      },
      "execution_count": null,
      "outputs": []
    }
  ]
}