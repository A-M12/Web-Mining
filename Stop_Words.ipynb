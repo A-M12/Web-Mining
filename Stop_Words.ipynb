{
  "nbformat": 4,
  "nbformat_minor": 0,
  "metadata": {
    "colab": {
      "provenance": []
    },
    "kernelspec": {
      "name": "python3",
      "display_name": "Python 3"
    },
    "language_info": {
      "name": "python"
    }
  },
  "cells": [
    {
      "cell_type": "code",
      "execution_count": 1,
      "metadata": {
        "colab": {
          "base_uri": "https://localhost:8080/"
        },
        "id": "-tbwswgBq0yB",
        "outputId": "b74e14c1-9b8b-4ade-d545-5328658d1972"
      },
      "outputs": [
        {
          "output_type": "stream",
          "name": "stderr",
          "text": [
            "[nltk_data] Downloading package stopwords to /root/nltk_data...\n",
            "[nltk_data]   Unzipping corpora/stopwords.zip.\n",
            "[nltk_data] Downloading package averaged_perceptron_tagger to\n",
            "[nltk_data]     /root/nltk_data...\n",
            "[nltk_data]   Unzipping taggers/averaged_perceptron_tagger.zip.\n"
          ]
        },
        {
          "output_type": "execute_result",
          "data": {
            "text/plain": [
              "True"
            ]
          },
          "metadata": {},
          "execution_count": 1
        }
      ],
      "source": [
        "import nltk\n",
        "nltk.download('stopwords')\n",
        "nltk.download('averaged_perceptron_tagger')"
      ]
    },
    {
      "cell_type": "code",
      "source": [
        "import nltk\n",
        "from nltk import word_tokenize\n",
        "from nltk.corpus import stopwords"
      ],
      "metadata": {
        "id": "d4QX2auwq7F1"
      },
      "execution_count": 2,
      "outputs": []
    },
    {
      "cell_type": "code",
      "source": [
        "a = set(stopwords.words('english'))\n",
        "text =\"Cristiano Ronaldo was born on February 5, 1985, in Funchal, Madeira, Portugal\"\n",
        "text1 = word_tokenize(text)\n",
        "print('-'*15)\n",
        "print(\"TOKENS\")\n",
        "print('-'*15)\n",
        "print(text1)\n",
        "stopwords = [x for x in text1 if x not in a]\n",
        "print('-'*15)\n",
        "print(\"STOPWORDS\")\n",
        "print('-'*15)\n",
        "print(stopwords)"
      ],
      "metadata": {
        "id": "OGHM0Ew8q_X_"
      },
      "execution_count": 6,
      "outputs": []
    },
    {
      "cell_type": "code",
      "source": [
        "text = \"vote to choose a particular man or a group (party) to represent them in parliament\"\n",
        "tex = word_tokenize(text)\n",
        "print('-'*15)\n",
        "print(\"POS TAG\")\n",
        "print('-'*15)\n",
        "for token in tex:\n",
        "    print(nltk.pos_tag([token]))"
      ],
      "metadata": {
        "id": "TSjazdKBrDt5"
      },
      "execution_count": 6,
      "outputs": []
    }
  ]
}