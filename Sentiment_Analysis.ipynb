{
  "nbformat": 4,
  "nbformat_minor": 0,
  "metadata": {
    "colab": {
      "provenance": []
    },
    "kernelspec": {
      "name": "python3",
      "display_name": "Python 3"
    },
    "language_info": {
      "name": "python"
    }
  },
  "cells": [
    {
      "cell_type": "code",
      "execution_count": 1,
      "metadata": {
        "id": "ReybyCxlj_TD"
      },
      "outputs": [],
      "source": [
        "import pandas as pd\n",
        "import torch"
      ]
    },
    {
      "cell_type": "code",
      "source": [
        "device = torch.device(\"cuda\" if torch.cuda.is_available() else \"cpu\")\n",
        "Data_Path = \"D:\\\\D Backup\\\\Datasets\\\\tripadvisor_hotel_reviews.csv\""
      ],
      "metadata": {
        "id": "5fff_ww4kfku"
      },
      "execution_count": 2,
      "outputs": []
    },
    {
      "cell_type": "code",
      "source": [
        "df = pd.read_csv(Data_Path)\n",
        "df.head()\n",
        "neutral_range = {\"low\":4,\"high\":5}\n",
        "df[\"Sentiment\"] = \"neutral\""
      ],
      "metadata": {
        "id": "rJ3P_Yp_ksS-"
      },
      "execution_count": 3,
      "outputs": []
    }
  ]
}