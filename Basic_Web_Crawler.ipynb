{
  "nbformat": 4,
  "nbformat_minor": 0,
  "metadata": {
    "colab": {
      "provenance": []
    },
    "kernelspec": {
      "name": "python3",
      "display_name": "Python 3"
    },
    "language_info": {
      "name": "python"
    }
  },
  "cells": [
    {
      "cell_type": "code",
      "execution_count": 1,
      "metadata": {
        "id": "qf9W5wY-okMQ"
      },
      "outputs": [],
      "source": [
        "import requests\n",
        "from bs4 import BeautifulSoup"
      ]
    },
    {
      "cell_type": "code",
      "source": [
        "code=requests.get(\"https://www.amazon.in\")\n",
        "plain=code.text\n",
        "soup=BeautifulSoup(plain,\"html.parser\")"
      ],
      "metadata": {
        "id": "fZjBltstouFN"
      },
      "execution_count": 3,
      "outputs": []
    },
    {
      "cell_type": "code",
      "source": [
        "for link in soup.find_all('a'):\n",
        "    print(link.get('href'))"
      ],
      "metadata": {
        "colab": {
          "base_uri": "https://localhost:8080/"
        },
        "id": "3nnfvHryo8vq",
        "outputId": "13f5ee0c-f80c-41d0-bc52-aa3c7e31fd2f"
      },
      "execution_count": 4,
      "outputs": [
        {
          "output_type": "stream",
          "name": "stdout",
          "text": [
            "None\n",
            "None\n",
            "/ref=nav_logo\n",
            "None\n",
            "/customer-preferences/edit?ie=UTF8&preferencesReturnUrl=%2F&ref_=topnav_lang\n",
            "https://www.amazon.in/ap/signin?openid.pape.max_auth_age=0&openid.return_to=https%3A%2F%2Fwww.amazon.in%2F%3F_encoding%3DUTF8%26ref_%3Dnav_ya_signin&openid.identity=http%3A%2F%2Fspecs.openid.net%2Fauth%2F2.0%2Fidentifier_select&openid.assoc_handle=inflex&openid.mode=checkid_setup&openid.claimed_id=http%3A%2F%2Fspecs.openid.net%2Fauth%2F2.0%2Fidentifier_select&openid.ns=http%3A%2F%2Fspecs.openid.net%2Fauth%2F2.0\n",
            "/gp/css/order-history?ref_=nav_orders_first\n",
            "https://www.amazon.in/gp/cart/view.html?ref_=nav_cart\n",
            "/gp/site-directory?ref_=nav_em_js_disabled\n",
            "/fresh?ref_=nav_cs_fresh\n",
            "/minitv?ref_=nav_avod_desktop_topnav\n",
            "/b/32702023031?node=32702023031&ld=AZINSOANavDesktop_T3&ref_=nav_cs_sell_T3\n",
            "/gp/bestsellers/?ref_=nav_cs_bestsellers\n",
            "/mobile-phones/b/?ie=UTF8&node=1389401031&ref_=nav_cs_mobiles\n",
            "/deals?ref_=nav_cs_gb\n",
            "/prime?ref_=nav_cs_primelink_nonmember\n",
            "/gp/help/customer/display.html?nodeId=200507590&ref_=nav_cs_help\n",
            "/electronics/b/?ie=UTF8&node=976419031&ref_=nav_cs_electronics\n",
            "/gp/new-releases/?ref_=nav_cs_newreleases\n",
            "/Home-Kitchen/b/?ie=UTF8&node=976442031&ref_=nav_cs_home\n",
            "/gp/browse.html?node=6648217031&ref_=nav_cs_fashion\n",
            "/gp/sva/dashboard?ref_=nav_cs_apay\n",
            "/gcx/-/gfhz/?ref_=nav_cs_giftfinder\n",
            "/computers-and-accessories/b/?ie=UTF8&node=976392031&ref_=nav_cs_pc\n",
            "/Books/b/?ie=UTF8&node=976389031&ref_=nav_cs_books\n",
            "/Home-Improvement/b/?ie=UTF8&node=4286640031&ref_=nav_cs_hi\n",
            "/Car-Motorbike-Store/b/?ie=UTF8&node=4772060031&ref_=nav_cs_automotive\n",
            "/Toys-Games/b/?ie=UTF8&node=1350380031&ref_=nav_cs_toys\n",
            "/amazon-coupons/b/?_encoding=UTF8&node=10465704031&ref_=nav_cs_coupons\n",
            "/Sports/b/?ie=UTF8&node=1984443031&ref_=nav_cs_sports\n",
            "/beauty/b/?ie=UTF8&node=1355016031&ref_=nav_cs_beauty\n",
            "/gift-card-store/b/?ie=UTF8&node=3704982031&ref_=nav_cs_gc\n",
            "/Gourmet-Specialty-Foods/b/?ie=UTF8&node=2454178031&ref_=nav_cs_grocery\n",
            "/health-and-personal-care/b/?ie=UTF8&node=1350384031&ref_=nav_cs_hpc\n",
            "/video-games/b/?ie=UTF8&node=976460031&ref_=nav_cs_video_games\n",
            "/Baby/b/?ie=UTF8&node=1571274031&ref_=nav_cs_baby\n",
            "/Amazon-Custom/b/?ie=UTF8&node=32615889031&ref_=nav_cs_custom\n",
            "/Pet-Supplies/b/?ie=UTF8&node=2454181031&ref_=nav_cs_pets\n",
            "/b/?node=6637738031&ref_=nav_cs_amazonbasics\n",
            "/Audible-Books-and-Originals/b/?ie=UTF8&node=17941593031&ref_=nav_cs_audible\n",
            "/auto-deliveries/landing?ref_=nav_cs_sns\n",
            "None\n",
            "None\n",
            "#\n",
            "/b/?_encoding=UTF8&node=1389401031\n",
            "#\n",
            "/b?node=1374357031\n",
            "/b?node=1374357031\n",
            "/b/?node=6648217031\n",
            "/b/?node=6648217031\n",
            "/b/?node=976442031\n",
            "/b/?node=976442031\n",
            "/s?hidden-keywords=B0792KTHKK%7CB0725W7Q38%7CB0794JD9JS%7CB01J6A7FGQ%7CB0793HNP9Z%7CB0791YHVMK%7CB079QQZZJK%7CB07FRJTZ4T%7CB077454Z99%7CB06XDBNSCP%7CB07C9L72VC&ref=nb_sb_noss\n",
            "/s?hidden-keywords=B0792KTHKK%7CB0725W7Q38%7CB0794JD9JS%7CB01J6A7FGQ%7CB0793HNP9Z%7CB0791YHVMK%7CB079QQZZJK%7CB07FRJTZ4T%7CB077454Z99%7CB06XDBNSCP%7CB07C9L72VC&ref=nb_sb_noss\n",
            "/b/?node=6802110031\n",
            "/b/?node=6802110031\n",
            "/b?node=1375427031\n",
            "/b?node=1375424031\n",
            "/b?node=1375248031\n",
            "/b?ie=UTF8&node=1388921031\n",
            "/b?node=20982412031\n",
            "/b?node=1380442031\n",
            "/b?node=1380374031\n",
            "/b?node=1380510031\n",
            "/b?node=1380485031\n",
            "/b?node=12414705031\n",
            "/b?node=10894223031&ref=INALGW\n",
            "/b?node=10894223031&ref=INALGW\n",
            "/gp/history\n",
            "/gp/history\n",
            "javascript:void(0)\n",
            "https://www.aboutamazon.in/?utm_source=gateway&utm_medium=footer\n",
            "https://amazon.jobs\n",
            "https://press.aboutamazon.in/?utm_source=gateway&utm_medium=footer\n",
            "https://www.amazon.science\n",
            "https://www.amazon.in/gp/redirect.html/ref=footer_fb?location=http://www.facebook.com/AmazonIN&token=2075D5EAC7BB214089728E2183FD391706D41E94&6\n",
            "https://www.amazon.in/gp/redirect.html/ref=footer_twitter?location=http://twitter.com/AmazonIN&token=A309DFBFCB1E37A808FF531934855DC817F130B6&6\n",
            "https://www.amazon.in/gp/redirect.html?location=https://www.instagram.com/amazondotin&token=264882C912E9D005CB1D9B61F12E125D5DF9BFC7&source=standards\n",
            "/b/?node=2838698031&ld=AZINSOANavDesktopFooter_C&ref_=nav_footer_sell_C\n",
            "https://accelerator.amazon.in/?ref_=map_1_b2b_GW_FT\n",
            "https://brandservices.amazon.in/?ref=AOINABRLGNRFOOT&ld=AOINABRLGNRFOOT\n",
            "https://sell.amazon.in/grow-your-business/amazon-global-selling.html?ld=AZIN_Footer_V1&ref=AZIN_Footer_V1\n",
            "https://affiliate-program.amazon.in/?utm_campaign=assocshowcase&utm_medium=footer&utm_source=GW&ref_=footer_assoc\n",
            "https://services.amazon.in/services/fulfilment-by-amazon/benefits.html/ref=az_footer_fba?ld=AWRGINFBAfooter\n",
            "https://advertising.amazon.in/?ref=Amz.in\n",
            "https://www.amazonpay.in/merchant\n",
            "/gp/help/customer/display.html?nodeId=GDFU3JS5AL6SYHRD&ref_=footer_covid\n",
            "/gp/css/homepage.html?ref_=footer_ya\n",
            "/gp/css/returns/homepage.html?ref_=footer_hy_f_4\n",
            "/gp/help/customer/display.html?nodeId=201083470&ref_=footer_swc\n",
            "/gp/browse.html?node=6967393031&ref_=footer_mobapp\n",
            "/gp/help/customer/display.html?nodeId=200507590&ref_=footer_gw_m_b_he\n",
            "/ref=footer_logo\n",
            "/customer-preferences/edit?ie=UTF8&preferencesReturnUrl=%2F&ref_=footer_lang\n",
            "https://www.amazon.com.au/ref=footer_au\n",
            "https://www.amazon.com.br/ref=footer_br\n",
            "https://www.amazon.ca/ref=footer_ca\n",
            "https://www.amazon.cn/ref=footer_cn\n",
            "https://www.amazon.fr/ref=footer_fr\n",
            "https://www.amazon.de/ref=footer_de\n",
            "https://www.amazon.it/ref=footer_it\n",
            "https://www.amazon.co.jp/ref=footer_jp\n",
            "https://www.amazon.com.mx/ref=footer_mx\n",
            "https://www.amazon.nl/ref=footer_nl\n",
            "https://www.amazon.pl/ref=footer_pl\n",
            "https://www.amazon.sg/ref=footer_sg\n",
            "https://www.amazon.es/ref=footer_es\n",
            "https://www.amazon.com.tr/ref=footer_tr\n",
            "https://www.amazon.ae/ref=footer_ae\n",
            "https://www.amazon.co.uk/ref=footer_uk\n",
            "https://www.amazon.com/ref=footer_us\n",
            "https://www.abebooks.com/\n",
            "https://aws.amazon.com/what-is-cloud-computing/?sc_channel=EL&sc_campaign=IN_amazonfooter\n",
            "https://www.audible.in/\n",
            "https://www.imdb.com/\n",
            "https://www.shopbop.com/\n",
            "/business?ref=footer_aingw\n",
            "/now?ref=footer_amznow\n",
            "/music/prime?ref=footer_apm\n",
            "/gp/help/customer/display.html?nodeId=200545940&ref_=footer_cou\n",
            "/gp/help/customer/display.html?nodeId=200534380&ref_=footer_privacy\n",
            "/gp/help/customer/display.html?nodeId=202075050&ref_=footer_iba\n"
          ]
        }
      ]
    }
  ]
}